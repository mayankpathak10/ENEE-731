{
 "cells": [
  {
   "cell_type": "markdown",
   "metadata": {},
   "source": [
    "## <div style=\"text-align: right\"> Mayank Pathak </div>\n",
    "# Project 1 \n",
    "## LBP+SVM approach on CIFAR10 Dataset "
   ]
  },
  {
   "cell_type": "markdown",
   "metadata": {},
   "source": [
    "### November 14, 2018\n",
    "\n",
    "- 1. **Introduction** \n",
    "    - 1.1 Importing Necessary libraries\n",
    "    - 1.2 Defining Hyper-Parameters\n",
    "- 2. **Data Preparation**\n",
    "    - 2.1  Load Data\n",
    "- 3. **Defining LBP Feature Extractor**\n",
    "    - 3.1 Feature Detection using LBP\n",
    "    - 3.2 Training SVM\n",
    "- 4. **Evaluation**"
   ]
  },
  {
   "cell_type": "markdown",
   "metadata": {},
   "source": [
    "### 1. Introduction\n",
    "\n",
    "#### 1.1 Importing necessary libraries:\n",
    "Libraries used for to create this network:\n",
    "    1. numpy\n",
    "    2. matplotlib\n",
    "    3. torch\n",
    "    4. sklearn\n",
    "    5. torch vision\n",
    "    6. os\n",
    "    7. imutils"
   ]
  },
  {
   "cell_type": "code",
   "execution_count": 2,
   "metadata": {},
   "outputs": [],
   "source": [
    "import numpy as np\n",
    "import matplotlib\n",
    "import matplotlib.pyplot as plt\n",
    "from skimage import data\n",
    "from skimage import feature\n",
    "from skimage.transform import rotate\n",
    "from skimage.feature import local_binary_pattern\n",
    "from skimage import data\n",
    "\n",
    "import torchvision.transforms as transforms\n",
    "import torchvision\n",
    "import torch\n",
    "import torchvision.datasets as dsets\n",
    "from sklearn.svm import SVC\n",
    "from sklearn.svm import LinearSVC\n",
    "import imutils\n",
    "import cv2\n",
    "from sklearn import metrics\n",
    "from sklearn.multiclass import OneVsRestClassifier\n",
    "\n",
    "%matplotlib inline"
   ]
  },
  {
   "cell_type": "markdown",
   "metadata": {},
   "source": [
    "#### 1.2 Defining Hyper-Parameters and other required Parameters\n",
    "The Hyper-Parameters for this model are:\n",
    "\n",
    "   1. **Method:** method to choose the points. \n",
    "   2. **Radius:** Radius to look for patterns.\n",
    "   3. **Number of Points:** Number of points on each pattern."
   ]
  },
  {
   "cell_type": "code",
   "execution_count": 3,
   "metadata": {},
   "outputs": [],
   "source": [
    "METHOD = 'uniform'\n",
    "radius = 1\n",
    "n_points = 8 * radius"
   ]
  },
  {
   "cell_type": "markdown",
   "metadata": {},
   "source": [
    "### 2. Data Preparation\n",
    "\n",
    "#### 2.1 Load Data\n",
    "The input images and labels are loaded using the Dataloader class. Training Data is shuffled everytime it is loaded. 50000 Training images and 10000 testing images<br>\n",
    "\n",
    "> Number of Input Images: 60,000 <br>\n",
    "> TrainImages shape: (50000,32,32,3) <br>\n",
    "> TestImages shape: (10000,32,32,3)"
   ]
  },
  {
   "cell_type": "code",
   "execution_count": 4,
   "metadata": {},
   "outputs": [
    {
     "name": "stdout",
     "output_type": "stream",
     "text": [
      "Files already downloaded and verified\n",
      "Files already downloaded and verified\n"
     ]
    }
   ],
   "source": [
    "trans = transforms.Compose([transforms.Grayscale(num_output_channels=1), transforms.ToTensor()])\n",
    "training_set = dsets.CIFAR10(root='./data', train=True,  transform=trans, download=True)\n",
    "testing_set = dsets.CIFAR10(root='./data', train=False, transform=trans, download=True)"
   ]
  },
  {
   "cell_type": "markdown",
   "metadata": {},
   "source": [
    "### 3. Defining LBP Feature Extractor\n",
    "\n",
    "Here different function are used to implement Local Binary Pattern Feature detection.\n"
   ]
  },
  {
   "cell_type": "code",
   "execution_count": 5,
   "metadata": {},
   "outputs": [],
   "source": [
    "def hist(ax, lbp):\n",
    "    n_bins = int(lbp.max() + 1)\n",
    "    return ax.hist(lbp.ravel(), normed=True, bins=n_bins, range=(0, n_bins),\n",
    "                   facecolor='0.5')\n",
    "\n",
    "def print_lbp_img(img, lbp_img, histogram):\n",
    "    '''\n",
    "    :param img: original image\n",
    "    :param lbp_img: lbp image\n",
    "    :param histogram: histogram of the lbp image\n",
    "    :return: print the figure\n",
    "    '''\n",
    "    return True\n",
    "\n",
    "\n",
    "def lbp_piece_vec(img, method, p, r, regions=4):\n",
    "    '''\n",
    "    :param img: input grayscale image\n",
    "    :param method: LBP method\n",
    "    :param p: number of neighbors\n",
    "    :param r: radius\n",
    "    :param regions: number of regions divided\n",
    "    :return: lbp vector\n",
    "    '''\n",
    "    # crop the 32x32 image into 4 8x8 regions\n",
    "    pieces = []\n",
    "    vectors = []\n",
    "    for i in range(regions):\n",
    "        for j in range(regions):\n",
    "            pieces.append(img[8*i:8*(i+1), 8*j:8*(j+1)])\n",
    "\n",
    "    for piece in pieces:\n",
    "        lbp = local_binary_pattern(piece, p, r, method)\n",
    "        his, _ = np.histogram(lbp, normed=True, bins=p+2, range=(0, p+2))\n",
    "        vectors.append(his)\n",
    "\n",
    "    return np.concatenate(vectors)\n",
    "\n",
    "def lbp_vec(img, method, p, r):\n",
    "    '''\n",
    "    :param img: input grayscale image\n",
    "    :param method: LBP method\n",
    "    :param p: number of neighbors\n",
    "    :param r: radius\n",
    "    :return: lbp vector\n",
    "    '''\n",
    "    # convert a single image into graph directly\n",
    "    lbp = local_binary_pattern(img, p, r, method = \"uniform\")\n",
    "    his, _ = np.histogram(lbp, normed=True, bins=p+2, range=(0, p+2))\n",
    "    return his\n",
    "\n",
    "def LBP_data(training_set, testing_set):\n",
    "    '''\n",
    "    :param training_set:\n",
    "    :param testing_set:\n",
    "    :return: array like training and testing data\n",
    "    '''\n",
    "    train_lbp_vectors = []\n",
    "    train_labels = []\n",
    "\n",
    "    for img, lab in training_set:\n",
    "        img = img.numpy().squeeze()\n",
    "        vector = lbp_vec(img, METHOD, n_points, radius)\n",
    "        train_lbp_vectors.append(np.expand_dims(vector, axis=0))\n",
    "        train_labels.append(lab)\n",
    "\n",
    "    train_img = np.concatenate(train_lbp_vectors, axis=0)\n",
    "    train_lab = np.array(train_labels)\n",
    "\n",
    "\n",
    "    test_lbp_vectors = []\n",
    "    test_labels = []\n",
    "\n",
    "    for img, lab in testing_set:\n",
    "        img = img.numpy().squeeze()\n",
    "        vector = lbp_vec(img, METHOD, n_points, radius)\n",
    "        test_lbp_vectors.append(np.expand_dims(vector, axis=0))\n",
    "        test_labels.append(lab)\n",
    "\n",
    "    test_img = np.concatenate(test_lbp_vectors, axis=0)\n",
    "    test_lab = np.array(test_labels)\n",
    "\n",
    "    return train_img, train_lab, test_img, test_lab"
   ]
  },
  {
   "cell_type": "markdown",
   "metadata": {},
   "source": [
    "#### 3.1 Feature Detection using LBP\n",
    "Training set and testing set is passed through the LBP feature detector as described above, and the resulting images and labels are saved<br>"
   ]
  },
  {
   "cell_type": "code",
   "execution_count": 28,
   "metadata": {},
   "outputs": [
    {
     "name": "stderr",
     "output_type": "stream",
     "text": [
      "/home/mp/.virtualenvs/DeepLearning/lib/python3.5/site-packages/ipykernel_launcher.py:49: VisibleDeprecationWarning: Passing `normed=True` on non-uniform bins has always been broken, and computes neither the probability density function nor the probability mass function. The result is only correct if the bins are uniform, when density=True will produce the same result anyway. The argument will be removed in a future version of numpy.\n"
     ]
    }
   ],
   "source": [
    "train_img, train_lab, test_img, test_lab = LBP_data(training_set, testing_set)"
   ]
  },
  {
   "cell_type": "markdown",
   "metadata": {},
   "source": [
    "#### 3.2 Training SVM\n",
    "A Linear SVM is trained, and the performance of this trained SVM is evaluated over the test set with predited labels and true labels."
   ]
  },
  {
   "cell_type": "code",
   "execution_count": 29,
   "metadata": {
    "scrolled": true
   },
   "outputs": [
    {
     "name": "stdout",
     "output_type": "stream",
     "text": [
      "Classification report for classifier LinearSVC(C=100.0, class_weight=None, dual=True, fit_intercept=True,\n",
      "     intercept_scaling=1, loss='squared_hinge', max_iter=1000,\n",
      "     multi_class='ovr', penalty='l2', random_state=10, tol=0.0001,\n",
      "     verbose=0):\n",
      "              precision    recall  f1-score   support\n",
      "\n",
      "           0       0.31      0.50      0.39      1000\n",
      "           1       0.27      0.55      0.36      1000\n",
      "           2       0.14      0.01      0.03      1000\n",
      "           3       0.23      0.03      0.05      1000\n",
      "           4       0.26      0.29      0.27      1000\n",
      "           5       0.26      0.45      0.33      1000\n",
      "           6       0.30      0.68      0.42      1000\n",
      "           7       0.30      0.04      0.08      1000\n",
      "           8       0.29      0.06      0.09      1000\n",
      "           9       0.25      0.18      0.21      1000\n",
      "\n",
      "   micro avg       0.28      0.28      0.28     10000\n",
      "   macro avg       0.26      0.28      0.22     10000\n",
      "weighted avg       0.26      0.28      0.22     10000\n",
      "\n",
      "\n"
     ]
    },
    {
     "name": "stderr",
     "output_type": "stream",
     "text": [
      "/home/mp/.virtualenvs/DeepLearning/lib/python3.5/site-packages/sklearn/svm/base.py:922: ConvergenceWarning: Liblinear failed to converge, increase the number of iterations.\n",
      "  \"the number of iterations.\", ConvergenceWarning)\n"
     ]
    }
   ],
   "source": [
    "model = LinearSVC(C=100.0, random_state = 10)\n",
    "model.fit(train_img,train_lab)\n",
    "\n",
    "predict_labels = model.predict(test_img)\n",
    "\n",
    "# metrics.classification_report(test_lab,predict_labels)\n",
    "print(\"Classification report for classifier %s:\\n%s\\n\" % (model, metrics.classification_report(test_lab,predict_labels)))"
   ]
  },
  {
   "cell_type": "markdown",
   "metadata": {},
   "source": [
    "### Evaluation"
   ]
  },
  {
   "cell_type": "code",
   "execution_count": 30,
   "metadata": {
    "scrolled": true
   },
   "outputs": [
    {
     "name": "stdout",
     "output_type": "stream",
     "text": [
      "Support Vector Classifier :  0.2784\n"
     ]
    }
   ],
   "source": [
    "svc_score = metrics.accuracy_score(test_lab,predict_labels)\n",
    "print(\"Support Vector Classifier : \", svc_score)\n"
   ]
  },
  {
   "cell_type": "code",
   "execution_count": 31,
   "metadata": {},
   "outputs": [
    {
     "name": "stderr",
     "output_type": "stream",
     "text": [
      "/home/mp/.virtualenvs/DeepLearning/lib/python3.5/site-packages/matplotlib/axes/_axes.py:6521: MatplotlibDeprecationWarning: \n",
      "The 'normed' kwarg was deprecated in Matplotlib 2.1 and will be removed in 3.1. Use 'density' instead.\n",
      "  alternative=\"'density'\", removal=\"3.1\")\n"
     ]
    },
    {
     "data": {
      "image/png": "[encoded data removed]",
      "text/plain": [
       "<Figure size 432x288 with 1 Axes>"
      ]
     },
     "metadata": {
      "needs_background": "light"
     },
     "output_type": "display_data"
    }
   ],
   "source": [
    "trans = transforms.ToPILImage()\n",
    "images, labels = training_set.__getitem__(1)\n",
    "# lbp = local_binary_pattern(images.numpy().squeeze(), n_points, radius, METHOD)\n",
    "# displaying default to make cool image\n",
    "features = feature.local_binary_pattern(images.numpy().squeeze(), n_points, radius, method=\"default\") # method=\"uniform\")\n",
    "# cv2.imshow(\"input\",images.astype(\"uint8\"))\n",
    "# cv2.imshow(\"LBP\", features.astype(\"uint8\"))\n",
    "# cv2.waitKey(0)\n",
    "plt.hist(features.ravel(), normed=True, bins=n_points+2, range=(0, n_points+2), color='0.5')\n",
    "plt.show()"
   ]
  },
  {
   "cell_type": "code",
   "execution_count": 34,
   "metadata": {},
   "outputs": [
    {
     "data": {
      "text/plain": [
       "<matplotlib.image.AxesImage at 0x7fcce1d8b908>"
      ]
     },
     "execution_count": 34,
     "metadata": {},
     "output_type": "execute_result"
    },
    {
     "data": {
      "image/png": "[encoded data removed]",
      "text/plain": [
       "<Figure size 432x288 with 1 Axes>"
      ]
     },
     "metadata": {
      "needs_background": "light"
     },
     "output_type": "display_data"
    }
   ],
   "source": [
    "plt.imshow(features.astype(\"uint8\"))#, cmap = 'gray')"
   ]
  }
 ],
 "metadata": {
  "kernelspec": {
   "display_name": "DeepLearning",
   "language": "python",
   "name": "deeplearning"
  },
  "language_info": {
   "codemirror_mode": {
    "name": "ipython",
    "version": 3
   },
   "file_extension": ".py",
   "mimetype": "text/x-python",
   "name": "python",
   "nbconvert_exporter": "python",
   "pygments_lexer": "ipython3",
   "version": "3.5.2"
  }
 },
 "nbformat": 4,
 "nbformat_minor": 2
}
